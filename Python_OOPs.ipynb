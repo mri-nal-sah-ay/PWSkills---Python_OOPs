{
  "nbformat": 4,
  "nbformat_minor": 0,
  "metadata": {
    "colab": {
      "provenance": [],
      "gpuType": "V28"
    },
    "kernelspec": {
      "name": "python3",
      "display_name": "Python 3"
    },
    "language_info": {
      "name": "python"
    },
    "accelerator": "TPU"
  },
  "cells": [
    {
      "cell_type": "markdown",
      "source": [
        "# **Assignment - Python OOPs - Mrinal Sahay**"
      ],
      "metadata": {
        "id": "cjpruUv7OzWn"
      }
    },
    {
      "cell_type": "markdown",
      "source": [
        "**Theorey Questions**"
      ],
      "metadata": {
        "id": "_PwP704ZOwnB"
      }
    },
    {
      "cell_type": "markdown",
      "source": [
        "Q1. What is Object-Oriented Programming (OOP) ?\n",
        "\n",
        "*   OOP is a way of writing programs using \"objects\" that represent real-world things. It organizes code into reusable blocks (classes) with properties (data) and behaviors (methods), focusing on four main ideas: encapsulation, inheritance, polymorphism, and abstraction\n",
        "\n"
      ],
      "metadata": {
        "id": "df3txhRXG3Ri"
      }
    },
    {
      "cell_type": "markdown",
      "source": [
        "Q2. What is a class in OOP ?\n",
        "\n",
        "*   A class is like a blueprint or template for creating objects. It defines what properties (attributes) and actions (methods) an object will have\n",
        "\n"
      ],
      "metadata": {
        "id": "pcuWF_vQH7GF"
      }
    },
    {
      "cell_type": "markdown",
      "source": [
        "Q3.  What is an object in OOP ?\n",
        "\n",
        "*   An object is an instance of a class. It’s a specific thing created from the class blueprint, with its own values for the properties defined in the class.\n"
      ],
      "metadata": {
        "id": "Ypf0Qh7NIE29"
      }
    },
    {
      "cell_type": "markdown",
      "source": [
        "Q4. What is the difference between abstraction and encapsulation ?\n",
        "\n",
        "*   Abstraction: Hiding complex details and showing only what’s necessary (e.g., using an abstract class with a method outline).\n",
        "* Encapsulation: Bundling data and methods together and restricting access to some parts (e.g., making attributes private with __).\n",
        "\n"
      ],
      "metadata": {
        "id": "jS4tcnVJIRSP"
      }
    },
    {
      "cell_type": "markdown",
      "source": [
        "Q5. What are dunder methods in Python ?\n",
        "\n",
        "*   Dunder (double underscore) methods are special methods in Python with names like __init__ or __str__. They let you customize how objects behave, like how they’re created or printed\n",
        "\n"
      ],
      "metadata": {
        "id": "mnsOppl9Ib1B"
      }
    },
    {
      "cell_type": "markdown",
      "source": [
        "Q6. Explain the concept of inheritance in OOP ?\n",
        "\n",
        "*   Inheritance lets one class (child) inherit properties and methods from another class (parent). It’s like a child getting traits from a parent, allowing code reuse and extension\n",
        "\n"
      ],
      "metadata": {
        "id": "cQkviyTzInGl"
      }
    },
    {
      "cell_type": "markdown",
      "source": [
        "Q7.  What is polymorphism in OOP ?\n",
        "\n",
        "*   Polymorphism means \"many forms.\" It allows different classes to use the same method name but implement it in their own way, so the same action can work differently depending on the object\n",
        "\n"
      ],
      "metadata": {
        "id": "tJEoMBDCI_P1"
      }
    },
    {
      "cell_type": "markdown",
      "source": [
        "Q8. How is encapsulation achieved in Python ?\n",
        "\n",
        "*   Encapsulation is achieved by using private attributes (with __ prefix, e.g., __balance) and providing public methods (like get_balance() or set_balance()) to access or modify them\n",
        "\n"
      ],
      "metadata": {
        "id": "KlTZnvtqJGrn"
      }
    },
    {
      "cell_type": "markdown",
      "source": [
        "Q9. What is a constructor in Python ?\n",
        "\n",
        "*   A constructor is the __init__ method in a class. It’s called automatically when an object is created and sets up the initial values for the object’s attributes\n",
        "\n"
      ],
      "metadata": {
        "id": "0hslhukDJOJk"
      }
    },
    {
      "cell_type": "markdown",
      "source": [
        "Q10.  What are class and static methods in Python ?\n",
        "\n",
        "*   Class methods: Use @classmethod and take cls as the first argument. They work with the class itself, not an instance.\n",
        "* Static methods: Use @staticmethod and don’t take self or cls. They’re like regular functions inside a class.\n",
        "\n"
      ],
      "metadata": {
        "id": "2C0SQSr-JUdi"
      }
    },
    {
      "cell_type": "markdown",
      "source": [
        "Q11. What is method overloading in Python ?\n",
        "\n",
        "*   Python doesn’t support true method overloading (same method name with different parameters). Instead, you can use default arguments or variable-length arguments (*args, **kwargs) to mimic it.\n"
      ],
      "metadata": {
        "id": "x0JE1D7kJcZK"
      }
    },
    {
      "cell_type": "markdown",
      "source": [
        "Q12. What is method overriding in OOP ?\n",
        "\n",
        "*   Method overriding is when a child class redefines a method from its parent class with its own version, changing how it works for that child\n"
      ],
      "metadata": {
        "id": "GuxEeYj6KJy2"
      }
    },
    {
      "cell_type": "markdown",
      "source": [
        "Q13. What is a property decorator in Python ?\n",
        "\n",
        "*   The @property decorator turns a method into a \"getter\" so you can access it like an attribute (e.g., obj.name instead of obj.name()). It’s used with @setter for controlled access to private data.\n",
        "\n"
      ],
      "metadata": {
        "id": "FfGkAoqDKQGB"
      }
    },
    {
      "cell_type": "markdown",
      "source": [
        "Q14. Why is polymorphism important in OOP ?\n",
        "\n",
        "*   Polymorphism makes code flexible and reusable. You can write one function that works with many object types, as long as they share a method name, reducing repetition\n"
      ],
      "metadata": {
        "id": "yEY85TWeKWmq"
      }
    },
    {
      "cell_type": "markdown",
      "source": [
        "Q15. What is an abstract class in Python ?\n",
        "\n",
        "*   An abstract class is a class that can’t be instantiated directly and has at least one abstract method (defined with @abstractmethod). It’s a blueprint for other classes to inherit and implement.\n",
        "\n"
      ],
      "metadata": {
        "id": "zJ3BIPwUKeFm"
      }
    },
    {
      "cell_type": "markdown",
      "source": [
        "Q16. What are the advantages of OOP ?\n",
        "\n",
        "*   Code reuse (inheritance), easier maintenance (encapsulation), flexibility (polymorphism), simpler design (abstraction), and better organization of complex programs\n",
        "\n"
      ],
      "metadata": {
        "id": "1I5kWQj-KmC4"
      }
    },
    {
      "cell_type": "markdown",
      "source": [
        "Q17. What is the difference between a class variable and an instance variable ?\n",
        "\n",
        "*   Class variable: Shared by all instances of a class, defined outside methods (e.g., count = 0).\n",
        "* Instance variable: Unique to each object, defined inside __init__ with self (e.g., self.name).\n",
        "\n"
      ],
      "metadata": {
        "id": "gkwzpMhdKsYF"
      }
    },
    {
      "cell_type": "markdown",
      "source": [
        "Q18. What is multiple inheritance in Python ?\n",
        "\n",
        "*   Multiple inheritance is when a class inherits from more than one parent class (e.g., class Child(Parent1, Parent2)). It combines features from all parents but can get tricky with method conflicts\n",
        "\n"
      ],
      "metadata": {
        "id": "eGbOlaQUK0Fd"
      }
    },
    {
      "cell_type": "markdown",
      "source": [
        "Q19. Explain the purpose of ‘’__str__’ and ‘__repr__’ ‘ methods in Python ?\n",
        "\n",
        "*   __str__: Returns a readable string for users when you print an object (e.g., print(obj)).\n",
        "* __repr__: Returns a detailed string for developers, often showing how to recreate the object (e.g., repr(obj)).\n",
        "\n"
      ],
      "metadata": {
        "id": "8FUX_pBgK66C"
      }
    },
    {
      "cell_type": "markdown",
      "source": [
        "Q20. What is the significance of the ‘super()’ function in Python ?\n",
        "\n",
        "*   super() lets you call a method from a parent class in a child class. It’s useful in inheritance to extend or reuse parent behavior (e.g., super().__init__()).\n",
        "\n"
      ],
      "metadata": {
        "id": "77r0VOX3NR-d"
      }
    },
    {
      "cell_type": "markdown",
      "source": [
        "Q21. What is the significance of the __del__ method in Python ?\n",
        "\n",
        "*   __del__ is called when an object is about to be destroyed (garbage collected). It’s like a cleanup method for closing files or freeing resources\n",
        "\n"
      ],
      "metadata": {
        "id": "nyLyVRfNNck8"
      }
    },
    {
      "cell_type": "markdown",
      "source": [
        "Q22. What is the difference between @staticmethod and @classmethod in Python ?\n",
        "\n",
        "*   @staticmethod: Doesn’t need self or cls, acts like a regular function tied to the class.\n",
        "* @classmethod: Takes cls as an argument, can access or modify class-level data.\n"
      ],
      "metadata": {
        "id": "cPf0MgLaNj3K"
      }
    },
    {
      "cell_type": "markdown",
      "source": [
        "Q23.  How does polymorphism work in Python with inheritance ?\n",
        "\n",
        "*   A parent class defines a method, and child classes override it. When you call the method on a parent-type variable holding a child object, Python runs the child’s version (e.g., bird.fly() calls Sparrow.fly() if bird is a Sparrow)\n",
        "\n"
      ],
      "metadata": {
        "id": "Ap39aQguN4iY"
      }
    },
    {
      "cell_type": "markdown",
      "source": [
        "Q24. What is method chaining in Python OOP ?\n",
        "\n",
        "*   Method chaining is when you call multiple methods on an object in one line, like obj.method1().method2(). Each method returns self to allow this\n",
        "\n"
      ],
      "metadata": {
        "id": "__igc70tN_yV"
      }
    },
    {
      "cell_type": "markdown",
      "source": [
        "Q25.  What is the purpose of the __call__ method in Python ?\n",
        "\n",
        "*   __call__ makes an object callable like a function. If you define it, you can use obj() after creating obj, running whatever code is in __call__\n"
      ],
      "metadata": {
        "id": "FJTQvqmcOQHg"
      }
    },
    {
      "cell_type": "markdown",
      "source": [
        "**Practical Questions**"
      ],
      "metadata": {
        "id": "niRIv60PGzsG"
      }
    },
    {
      "cell_type": "markdown",
      "source": [
        "Q1. Create a parent class Animal with a method speak() that prints a generic message. Create a child class Dog\n",
        "that overrides the speak() method to print \"Bark!\""
      ],
      "metadata": {
        "id": "v6TnenueAGQK"
      }
    },
    {
      "cell_type": "code",
      "source": [
        "class Animal:\n",
        "    def speak(self):\n",
        "        print(\"I make a sound\")\n",
        "\n",
        "class Dog(Animal):\n",
        "    def speak(self):\n",
        "        print(\"Bark!\")\n",
        "dog = Dog()\n",
        "dog.speak()"
      ],
      "metadata": {
        "colab": {
          "base_uri": "https://localhost:8080/"
        },
        "id": "5uNNVf4aAHTR",
        "outputId": "11be4cd7-245d-431c-a8ec-2b5bb8888c2c"
      },
      "execution_count": 1,
      "outputs": [
        {
          "output_type": "stream",
          "name": "stdout",
          "text": [
            "Bark!\n"
          ]
        }
      ]
    },
    {
      "cell_type": "markdown",
      "source": [
        "Q2. Write a program to create an abstract class Shape with a method area(). Derive classes Circle and Rectangle\n",
        "from it and implement the area() method in both"
      ],
      "metadata": {
        "id": "-i9srbQJAewb"
      }
    },
    {
      "cell_type": "code",
      "source": [
        "from abc import ABC, abstractmethod\n",
        "import math\n",
        "\n",
        "class Shape(ABC):\n",
        "    @abstractmethod\n",
        "    def area(self):\n",
        "        pass\n",
        "\n",
        "class Circle(Shape):\n",
        "    def __init__(self, radius):\n",
        "        self.radius = radius\n",
        "\n",
        "    def area(self):\n",
        "        return math.pi * self.radius ** 2\n",
        "\n",
        "class Rectangle(Shape):\n",
        "    def __init__(self, width, height):\n",
        "        self.width = width\n",
        "        self.height = height\n",
        "\n",
        "    def area(self):\n",
        "        return self.width * self.height\n",
        "\n",
        "circle = Circle(5)\n",
        "rect = Rectangle(4, 6)\n",
        "print(\"Circle Area -\",circle.area())\n",
        "print(\"Rectangle Area -\",rect.area())"
      ],
      "metadata": {
        "colab": {
          "base_uri": "https://localhost:8080/"
        },
        "id": "o1ptG6IlAjqD",
        "outputId": "74e29e90-6ff2-4e62-db9f-9f0ba990c6ed"
      },
      "execution_count": 5,
      "outputs": [
        {
          "output_type": "stream",
          "name": "stdout",
          "text": [
            "Circle Area - 78.53981633974483\n",
            "Rectangle Area - 24\n"
          ]
        }
      ]
    },
    {
      "cell_type": "markdown",
      "source": [
        "Q3. Implement a multi-level inheritance scenario where a class Vehicle has an attribute type. Derive a class Car\n",
        "and further derive a class ElectricCar that adds a battery attribute."
      ],
      "metadata": {
        "id": "F3q8njzhA6me"
      }
    },
    {
      "cell_type": "code",
      "source": [
        "class Vehicle:\n",
        "    def __init__(self, type):\n",
        "        self.type = type\n",
        "\n",
        "class Car(Vehicle):\n",
        "    def __init__(self, type):\n",
        "        super().__init__(type)\n",
        "\n",
        "class ElectricCar(Car):\n",
        "    def __init__(self, type, battery):\n",
        "        super().__init__(type)\n",
        "        self.battery = battery\n",
        "\n",
        "ecar = ElectricCar(\"Sedan\", \"100kWh\")\n",
        "print(ecar.type, ecar.battery)"
      ],
      "metadata": {
        "colab": {
          "base_uri": "https://localhost:8080/"
        },
        "id": "I29EX9nPBA84",
        "outputId": "85e17392-ec5c-48fa-bedf-1bfcfa74b9d4"
      },
      "execution_count": 6,
      "outputs": [
        {
          "output_type": "stream",
          "name": "stdout",
          "text": [
            "Sedan 100kWh\n"
          ]
        }
      ]
    },
    {
      "cell_type": "markdown",
      "source": [
        "Q4. Demonstrate polymorphism by creating a base class Bird with a method fly(). Create two derived classes\n",
        "Sparrow and Penguin that override the fly() method."
      ],
      "metadata": {
        "id": "xF2NNFxhBF9C"
      }
    },
    {
      "cell_type": "code",
      "source": [
        "class Bird:\n",
        "    def fly(self):\n",
        "        print(\"I can fly\")\n",
        "\n",
        "class Sparrow(Bird):\n",
        "    def fly(self):\n",
        "        print(\"Sparrow flies high\")\n",
        "\n",
        "class Penguin(Bird):\n",
        "    def fly(self):\n",
        "        print(\"Penguin cannot fly\")\n",
        "\n",
        "sparrow = Sparrow()\n",
        "penguin = Penguin()\n",
        "sparrow.fly()\n",
        "penguin.fly()"
      ],
      "metadata": {
        "colab": {
          "base_uri": "https://localhost:8080/"
        },
        "id": "PWBeISYXBKTk",
        "outputId": "45e7a57e-80b6-4c93-8087-c4c2a7d8a751"
      },
      "execution_count": 7,
      "outputs": [
        {
          "output_type": "stream",
          "name": "stdout",
          "text": [
            "Sparrow flies high\n",
            "Penguin cannot fly\n"
          ]
        }
      ]
    },
    {
      "cell_type": "markdown",
      "source": [
        "Q5. Write a program to demonstrate encapsulation by creating a class BankAccount with private attributes\n",
        "balance and methods to deposit, withdraw, and check balance."
      ],
      "metadata": {
        "id": "liqVh53PBQ9N"
      }
    },
    {
      "cell_type": "code",
      "source": [
        "class BankAccount:\n",
        "    def __init__(self):\n",
        "        self.__balance = 0  # Private attribute\n",
        "\n",
        "    def deposit(self, amount):\n",
        "        if amount > 0:\n",
        "            self.__balance += amount\n",
        "\n",
        "    def withdraw(self, amount):\n",
        "        if amount <= self.__balance:\n",
        "            self.__balance -= amount\n",
        "\n",
        "    def check_balance(self):\n",
        "        return self.__balance\n",
        "\n",
        "account = BankAccount()\n",
        "account.deposit(100)\n",
        "account.withdraw(30)\n",
        "print(account.check_balance())"
      ],
      "metadata": {
        "colab": {
          "base_uri": "https://localhost:8080/"
        },
        "id": "aTPCrHyoBZF2",
        "outputId": "02e51898-1f88-459d-84c9-2abf992b74aa"
      },
      "execution_count": 8,
      "outputs": [
        {
          "output_type": "stream",
          "name": "stdout",
          "text": [
            "70\n"
          ]
        }
      ]
    },
    {
      "cell_type": "markdown",
      "source": [
        "Q6. Demonstrate runtime polymorphism using a method play() in a base class Instrument. Derive classes Guitar\n",
        "and Piano that implement their own version of play()"
      ],
      "metadata": {
        "id": "pNims_NwBhAg"
      }
    },
    {
      "cell_type": "code",
      "source": [
        "class Instrument:\n",
        "    def play(self):\n",
        "        print(\"Playing an instrument\")\n",
        "\n",
        "class Guitar(Instrument):\n",
        "    def play(self):\n",
        "        print(\"Strumming the guitar\")\n",
        "\n",
        "class Piano(Instrument):\n",
        "    def play(self):\n",
        "        print(\"Playing the piano keys\")\n",
        "\n",
        "instruments = [Guitar(), Piano()]\n",
        "for inst in instruments:\n",
        "    inst.play()"
      ],
      "metadata": {
        "colab": {
          "base_uri": "https://localhost:8080/"
        },
        "id": "B3h1HOC9BlT0",
        "outputId": "307a9ab2-58b5-4faa-ef4b-5c4ed8b16b65"
      },
      "execution_count": 9,
      "outputs": [
        {
          "output_type": "stream",
          "name": "stdout",
          "text": [
            "Strumming the guitar\n",
            "Playing the piano keys\n"
          ]
        }
      ]
    },
    {
      "cell_type": "markdown",
      "source": [
        "Q7. Create a class MathOperations with a class method add_numbers() to add two numbers and a static\n",
        "method subtract_numbers() to subtract two numbers"
      ],
      "metadata": {
        "id": "RMZgm_ZKBtgv"
      }
    },
    {
      "cell_type": "code",
      "source": [
        "class MathOperations:\n",
        "    @classmethod\n",
        "    def add_numbers(cls, a, b):\n",
        "        return a + b\n",
        "\n",
        "    @staticmethod\n",
        "    def subtract_numbers(a, b):\n",
        "        return a - b\n",
        "\n",
        "print(MathOperations.add_numbers(5, 3))\n",
        "print(MathOperations.subtract_numbers(5, 3))"
      ],
      "metadata": {
        "colab": {
          "base_uri": "https://localhost:8080/"
        },
        "id": "DP0O7aAcByn7",
        "outputId": "d8cf755f-2aa6-4087-effc-9029de9a315d"
      },
      "execution_count": 10,
      "outputs": [
        {
          "output_type": "stream",
          "name": "stdout",
          "text": [
            "8\n",
            "2\n"
          ]
        }
      ]
    },
    {
      "cell_type": "markdown",
      "source": [
        "Q8. Implement a class Person with a class method to count the total number of persons created."
      ],
      "metadata": {
        "id": "Lv_QUPKGB5BG"
      }
    },
    {
      "cell_type": "code",
      "source": [
        "class Person:\n",
        "    count = 0\n",
        "\n",
        "    def __init__(self):\n",
        "        Person.count += 1\n",
        "\n",
        "    @classmethod\n",
        "    def get_count(cls):\n",
        "        return cls.count\n",
        "\n",
        "p1 = Person()\n",
        "p2 = Person()\n",
        "print(Person.get_count())"
      ],
      "metadata": {
        "colab": {
          "base_uri": "https://localhost:8080/"
        },
        "id": "Z1NknzpxB-hz",
        "outputId": "8bfe8193-4d00-4fa1-c668-70f2ecac0600"
      },
      "execution_count": 11,
      "outputs": [
        {
          "output_type": "stream",
          "name": "stdout",
          "text": [
            "2\n"
          ]
        }
      ]
    },
    {
      "cell_type": "markdown",
      "source": [
        "Q9. Write a class Fraction with attributes numerator and denominator. Override the str method to display the\n",
        "fraction as \"numerator/denominator\""
      ],
      "metadata": {
        "id": "yQhDix7FCGtC"
      }
    },
    {
      "cell_type": "code",
      "source": [
        "class Fraction:\n",
        "    def __init__(self, numerator, denominator):\n",
        "        self.numerator = numerator\n",
        "        self.denominator = denominator\n",
        "\n",
        "    def __str__(self):\n",
        "        return f\"{self.numerator}/{self.denominator}\"\n",
        "\n",
        "frac = Fraction(3, 4)\n",
        "print(frac)"
      ],
      "metadata": {
        "colab": {
          "base_uri": "https://localhost:8080/"
        },
        "id": "JfGyUe3fFMOg",
        "outputId": "d011562f-e133-4a6d-b775-fa66004ea2d5"
      },
      "execution_count": 12,
      "outputs": [
        {
          "output_type": "stream",
          "name": "stdout",
          "text": [
            "3/4\n"
          ]
        }
      ]
    },
    {
      "cell_type": "markdown",
      "source": [
        "Q10.  Demonstrate operator overloading by creating a class Vector and overriding the add method to add two\n",
        "vectors"
      ],
      "metadata": {
        "id": "6b3LwUuAFTx0"
      }
    },
    {
      "cell_type": "code",
      "source": [
        "class Vector:\n",
        "    def __init__(self, x, y):\n",
        "        self.x = x\n",
        "        self.y = y\n",
        "\n",
        "    def __add__(self, other):\n",
        "        return Vector(self.x + other.x, self.y + other.y)\n",
        "\n",
        "    def __str__(self):\n",
        "        return f\"({self.x}, {self.y})\"\n",
        "\n",
        "v1 = Vector(2, 3)\n",
        "v2 = Vector(4, 5)\n",
        "v3 = v1 + v2\n",
        "print(v3)"
      ],
      "metadata": {
        "colab": {
          "base_uri": "https://localhost:8080/"
        },
        "id": "7mF-tvGFFXfx",
        "outputId": "c1f156f9-7703-472d-90ec-7e59c0adf1a9"
      },
      "execution_count": 13,
      "outputs": [
        {
          "output_type": "stream",
          "name": "stdout",
          "text": [
            "(6, 8)\n"
          ]
        }
      ]
    },
    {
      "cell_type": "markdown",
      "source": [
        "Q11. Create a class Person with attributes name and age. Add a method greet() that prints \"Hello, my name is\n",
        "{name} and I am {age} years old.\""
      ],
      "metadata": {
        "id": "z-d6iTb9FeNe"
      }
    },
    {
      "cell_type": "code",
      "source": [
        "class Person:\n",
        "    def __init__(self, name, age):\n",
        "        self.name = name\n",
        "        self.age = age\n",
        "\n",
        "    def greet(self):\n",
        "        print(f\"Hello, my name is {self.name} and I am {self.age} years old.\")\n",
        "\n",
        "person = Person(\"Alice\", 25)\n",
        "person.greet()"
      ],
      "metadata": {
        "colab": {
          "base_uri": "https://localhost:8080/"
        },
        "id": "3jYq_UafFj6V",
        "outputId": "a71820b8-5a4b-4c24-9ef9-e7b024ddc6fd"
      },
      "execution_count": 14,
      "outputs": [
        {
          "output_type": "stream",
          "name": "stdout",
          "text": [
            "Hello, my name is Alice and I am 25 years old.\n"
          ]
        }
      ]
    },
    {
      "cell_type": "markdown",
      "source": [
        "Q12. Implement a class Student with attributes name and grades. Create a method average_grade() to compute\n",
        "the average of the grades"
      ],
      "metadata": {
        "id": "agZes-xJFrNH"
      }
    },
    {
      "cell_type": "code",
      "source": [
        "class Student:\n",
        "    def __init__(self, name, grades):\n",
        "        self.name = name\n",
        "        self.grades = grades\n",
        "\n",
        "    def average_grade(self):\n",
        "        return sum(self.grades) / len(self.grades)\n",
        "\n",
        "student = Student(\"Bob\", [85, 90, 95])\n",
        "print(student.average_grade())"
      ],
      "metadata": {
        "colab": {
          "base_uri": "https://localhost:8080/"
        },
        "id": "9nxatML-FwXq",
        "outputId": "a146e325-939b-487a-f344-168928c19be4"
      },
      "execution_count": 15,
      "outputs": [
        {
          "output_type": "stream",
          "name": "stdout",
          "text": [
            "90.0\n"
          ]
        }
      ]
    },
    {
      "cell_type": "markdown",
      "source": [
        "Q13. Create a class Rectangle with methods set_dimensions() to set the dimensions and area() to calculate the\n",
        "area"
      ],
      "metadata": {
        "id": "rSbJG3FoF2Zi"
      }
    },
    {
      "cell_type": "code",
      "source": [
        "class Rectangle:\n",
        "    def __init__(self):\n",
        "        self.width = 0\n",
        "        self.height = 0\n",
        "\n",
        "    def set_dimensions(self, width, height):\n",
        "        self.width = width\n",
        "        self.height = height\n",
        "\n",
        "    def area(self):\n",
        "        return self.width * self.height\n",
        "\n",
        "rect = Rectangle()\n",
        "rect.set_dimensions(4, 5)\n",
        "print(rect.area())"
      ],
      "metadata": {
        "colab": {
          "base_uri": "https://localhost:8080/"
        },
        "id": "JC3ErifaF5dZ",
        "outputId": "5409eceb-56c3-4cc5-8e32-a3cdcca94ffa"
      },
      "execution_count": 16,
      "outputs": [
        {
          "output_type": "stream",
          "name": "stdout",
          "text": [
            "20\n"
          ]
        }
      ]
    },
    {
      "cell_type": "markdown",
      "source": [
        "Q14. Create a class Employee with a method calculate_salary() that computes the salary based on hours worked\n",
        "and hourly rate. Create a derived class Manager that adds a bonus to the salary"
      ],
      "metadata": {
        "id": "4yPAXg7SGCIo"
      }
    },
    {
      "cell_type": "code",
      "source": [
        "class Employee:\n",
        "    def __init__(self, hours, rate):\n",
        "        self.hours = hours\n",
        "        self.rate = rate\n",
        "\n",
        "    def calculate_salary(self):\n",
        "        return self.hours * self.rate\n",
        "\n",
        "class Manager(Employee):\n",
        "    def __init__(self, hours, rate, bonus):\n",
        "        super().__init__(hours, rate)\n",
        "        self.bonus = bonus\n",
        "\n",
        "    def calculate_salary(self):\n",
        "        return super().calculate_salary() + self.bonus\n",
        "\n",
        "emp = Employee(40, 20)\n",
        "mgr = Manager(40, 20, 100)\n",
        "print(emp.calculate_salary())\n",
        "print(mgr.calculate_salary())"
      ],
      "metadata": {
        "colab": {
          "base_uri": "https://localhost:8080/"
        },
        "id": "OX_wK0w9GGur",
        "outputId": "f9a6ebdb-6e4a-4fea-dd9a-158aec80b4e3"
      },
      "execution_count": 17,
      "outputs": [
        {
          "output_type": "stream",
          "name": "stdout",
          "text": [
            "800\n",
            "900\n"
          ]
        }
      ]
    },
    {
      "cell_type": "markdown",
      "source": [
        "Q15. Create a class Product with attributes name, price, and quantity. Implement a method total_price() that\n",
        "calculates the total price of the product"
      ],
      "metadata": {
        "id": "MY8jg4Y7GN73"
      }
    },
    {
      "cell_type": "code",
      "source": [
        "class Product:\n",
        "    def __init__(self, name, price, quantity):\n",
        "        self.name = name\n",
        "        self.price = price\n",
        "        self.quantity = quantity\n",
        "\n",
        "    def total_price(self):\n",
        "        return self.price * self.quantity\n",
        "\n",
        "prod = Product(\"Laptop\", 1000, 2)\n",
        "print(prod.total_price())"
      ],
      "metadata": {
        "colab": {
          "base_uri": "https://localhost:8080/"
        },
        "id": "28xbMugxGRwi",
        "outputId": "66a1d792-606a-411b-cc04-b9d4c5b8c873"
      },
      "execution_count": 18,
      "outputs": [
        {
          "output_type": "stream",
          "name": "stdout",
          "text": [
            "2000\n"
          ]
        }
      ]
    },
    {
      "cell_type": "markdown",
      "source": [
        "Q16. Create a class Animal with an abstract method sound(). Create two derived classes Cow and Sheep that\n",
        "implement the sound() method."
      ],
      "metadata": {
        "id": "_uaGqEjnGViS"
      }
    },
    {
      "cell_type": "code",
      "source": [
        "from abc import ABC, abstractmethod\n",
        "\n",
        "class Animal(ABC):\n",
        "    @abstractmethod\n",
        "    def sound(self):\n",
        "        pass\n",
        "\n",
        "class Cow(Animal):\n",
        "    def sound(self):\n",
        "        print(\"Moo\")\n",
        "\n",
        "class Sheep(Animal):\n",
        "    def sound(self):\n",
        "        print(\"Baa\")\n",
        "\n",
        "cow = Cow()\n",
        "sheep = Sheep()\n",
        "cow.sound()\n",
        "sheep.sound()"
      ],
      "metadata": {
        "colab": {
          "base_uri": "https://localhost:8080/"
        },
        "id": "1jacvQMEGZBB",
        "outputId": "bc55bd0b-c602-4933-d739-4dcc1055d317"
      },
      "execution_count": 19,
      "outputs": [
        {
          "output_type": "stream",
          "name": "stdout",
          "text": [
            "Moo\n",
            "Baa\n"
          ]
        }
      ]
    },
    {
      "cell_type": "markdown",
      "source": [
        "Q17. Create a class Book with attributes title, author, and year_published. Add a method get_book_info() that\n",
        "returns a formatted string with the book's details"
      ],
      "metadata": {
        "id": "odcWx83ZGdI4"
      }
    },
    {
      "cell_type": "code",
      "source": [
        "class Book:\n",
        "    def __init__(self, title, author, year_published):\n",
        "        self.title = title\n",
        "        self.author = author\n",
        "        self.year_published = year_published\n",
        "\n",
        "    def get_book_info(self):\n",
        "        return f\"{self.title} by {self.author}, published in {self.year_published}\"\n",
        "\n",
        "book = Book(\"Python Basics\", \"Mrinal Sahay\", 2025)\n",
        "print(book.get_book_info())"
      ],
      "metadata": {
        "colab": {
          "base_uri": "https://localhost:8080/"
        },
        "id": "qiGoJ4d0Gf_j",
        "outputId": "4c88297d-734e-470e-ed1b-0a1c70feec4f"
      },
      "execution_count": 21,
      "outputs": [
        {
          "output_type": "stream",
          "name": "stdout",
          "text": [
            "Python Basics by Mrinal Sahay, published in 2025\n"
          ]
        }
      ]
    },
    {
      "cell_type": "markdown",
      "source": [
        "Q18. Create a class House with attributes address and price. Create a derived class Mansion that adds an\n",
        "attribute number_of_rooms"
      ],
      "metadata": {
        "id": "Po-keX7QGn83"
      }
    },
    {
      "cell_type": "code",
      "source": [
        "class House:\n",
        "    def __init__(self, address, price):\n",
        "        self.address = address\n",
        "        self.price = price\n",
        "\n",
        "class Mansion(House):\n",
        "    def __init__(self, address, price, number_of_rooms):\n",
        "        super().__init__(address, price)\n",
        "        self.number_of_rooms = number_of_rooms\n",
        "\n",
        "mansion = Mansion(\"123 Chennai St\", 1000000, 10)\n",
        "print(mansion.address, mansion.price, mansion.number_of_rooms)"
      ],
      "metadata": {
        "colab": {
          "base_uri": "https://localhost:8080/"
        },
        "id": "3DWfcfBnGsW7",
        "outputId": "fe1e117c-13c1-4247-d30d-41a189cceb32"
      },
      "execution_count": 23,
      "outputs": [
        {
          "output_type": "stream",
          "name": "stdout",
          "text": [
            "123 Chennai St 1000000 10\n"
          ]
        }
      ]
    }
  ]
}